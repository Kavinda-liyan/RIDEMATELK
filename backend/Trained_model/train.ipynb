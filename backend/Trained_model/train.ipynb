{
 "cells": [
  {
   "cell_type": "code",
   "execution_count": 1,
   "id": "1997e2a7",
   "metadata": {},
   "outputs": [
    {
     "data": {
      "text/plain": [
       "['scaler.joblib']"
      ]
     },
     "execution_count": 1,
     "metadata": {},
     "output_type": "execute_result"
    }
   ],
   "source": [
    "import pandas as pd\n",
    "from sklearn.preprocessing import StandardScaler\n",
    "from sklearn.neighbors import NearestNeighbors\n",
    "import joblib\n",
    "\n",
    "# Load CSV\n",
    "df = pd.read_csv(\"vehicles_merged.csv\")\n",
    "\n",
    "# Example numeric features\n",
    "numeric_cols = ['Seating Capacity', 'EFF (km/l)/(km/kwh)', 'Ground Clearance (range)']\n",
    "\n",
    "# Fill missing numeric values\n",
    "df[numeric_cols] = df[numeric_cols].fillna(df[numeric_cols].mean())\n",
    "\n",
    "# Scale numeric features\n",
    "scaler = StandardScaler()\n",
    "scaled_numeric = scaler.fit_transform(df[numeric_cols])\n",
    "\n",
    "# Save scaler\n",
    "joblib.dump(scaler, 'scaler.joblib')\n"
   ]
  },
  {
   "cell_type": "code",
   "execution_count": 2,
   "id": "ba99cf69",
   "metadata": {},
   "outputs": [
    {
     "data": {
      "text/plain": [
       "['feature_cols.joblib']"
      ]
     },
     "execution_count": 2,
     "metadata": {},
     "output_type": "execute_result"
    }
   ],
   "source": [
    "body_cols = ['Body Type']  # or map to Body_sedan, Body_hatchback etc.\n",
    "fuel_cols = ['Fuel Type']\n",
    "\n",
    "# For simplicity, let's make feature columns\n",
    "feature_cols = numeric_cols + list(df['Body Type'].str.lower().unique()) + list(df['Fuel Type'].str.lower().unique())\n",
    "joblib.dump(feature_cols, 'feature_cols.joblib')\n"
   ]
  },
  {
   "cell_type": "code",
   "execution_count": 3,
   "id": "a179bf1e",
   "metadata": {},
   "outputs": [
    {
     "data": {
      "text/plain": [
       "['knn_model.joblib']"
      ]
     },
     "execution_count": 3,
     "metadata": {},
     "output_type": "execute_result"
    }
   ],
   "source": [
    "# Build the full feature matrix\n",
    "import numpy as np\n",
    "\n",
    "X = np.hstack([scaled_numeric, np.zeros((df.shape[0], len(feature_cols)-len(numeric_cols)))])\n",
    "knn = NearestNeighbors(n_neighbors=10, metric='euclidean')\n",
    "knn.fit(X)\n",
    "\n",
    "joblib.dump(knn, 'knn_model.joblib')\n"
   ]
  },
  {
   "cell_type": "code",
   "execution_count": 4,
   "id": "77c85dc5",
   "metadata": {},
   "outputs": [
    {
     "data": {
      "text/plain": [
       "['vehicle_metadata.joblib']"
      ]
     },
     "execution_count": 4,
     "metadata": {},
     "output_type": "execute_result"
    }
   ],
   "source": [
    "weights = np.ones(len(feature_cols))  # or customize if you want weighted features\n",
    "joblib.dump(weights, 'weights.joblib')\n",
    "\n",
    "# Save metadata DataFrame for recommendation mapping\n",
    "joblib.dump(df, 'vehicle_metadata.joblib')\n"
   ]
  }
 ],
 "metadata": {
  "kernelspec": {
   "display_name": "Python 3",
   "language": "python",
   "name": "python3"
  },
  "language_info": {
   "codemirror_mode": {
    "name": "ipython",
    "version": 3
   },
   "file_extension": ".py",
   "mimetype": "text/x-python",
   "name": "python",
   "nbconvert_exporter": "python",
   "pygments_lexer": "ipython3",
   "version": "3.10.5"
  }
 },
 "nbformat": 4,
 "nbformat_minor": 5
}
